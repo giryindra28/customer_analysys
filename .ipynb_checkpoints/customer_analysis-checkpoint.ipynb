{
 "cells": [
  {
   "cell_type": "markdown",
   "id": "fbbbf253-9f7c-416c-abdf-20f642b54e5b",
   "metadata": {},
   "source": [
    "## Studi Kasus"
   ]
  },
  {
   "cell_type": "markdown",
   "id": "4eb82c1e-855a-4545-b2d8-3324008f44ba",
   "metadata": {},
   "source": [
    "\n",
    "Sebuah Mall ingin melakukan analisa customernya dengan cara melakukan kategorisasi customer berdasarkan Income dan Spending yang mereka habiskan selama berbelanja. Namun pihak Mall belum mengetahui berapa kategori yang harus dipakai untuk, bisakah kalian membantu pihak Mall untuk melakukan analisa ini."
   ]
  },
  {
   "cell_type": "markdown",
   "id": "182e9ab6-8fe0-4dec-abf7-12054b58f4b3",
   "metadata": {},
   "source": [
    "## Import library yang dibutuhkan"
   ]
  },
  {
   "cell_type": "code",
   "execution_count": 29,
   "id": "1d9215f0-b540-400a-8301-40515c846db1",
   "metadata": {},
   "outputs": [],
   "source": [
    "import pandas as pd\n",
    "import numpy as np\n",
    "import seaborn as sns\n",
    "from sklearn.cluster import KMeans\n",
    "from sklearn.preprocessing import LabelEncoder, StandardScaler\n",
    "import matplotlib.pyplot as plt"
   ]
  },
  {
   "cell_type": "code",
   "execution_count": 2,
   "id": "80734f76-fb4b-4e38-85d5-04a455bc67a2",
   "metadata": {},
   "outputs": [
    {
     "data": {
      "text/html": [
       "<div>\n",
       "<style scoped>\n",
       "    .dataframe tbody tr th:only-of-type {\n",
       "        vertical-align: middle;\n",
       "    }\n",
       "\n",
       "    .dataframe tbody tr th {\n",
       "        vertical-align: top;\n",
       "    }\n",
       "\n",
       "    .dataframe thead th {\n",
       "        text-align: right;\n",
       "    }\n",
       "</style>\n",
       "<table border=\"1\" class=\"dataframe\">\n",
       "  <thead>\n",
       "    <tr style=\"text-align: right;\">\n",
       "      <th></th>\n",
       "      <th>Genre</th>\n",
       "      <th>Age</th>\n",
       "      <th>Income</th>\n",
       "      <th>Spending</th>\n",
       "    </tr>\n",
       "    <tr>\n",
       "      <th>CustomerID</th>\n",
       "      <th></th>\n",
       "      <th></th>\n",
       "      <th></th>\n",
       "      <th></th>\n",
       "    </tr>\n",
       "  </thead>\n",
       "  <tbody>\n",
       "    <tr>\n",
       "      <th>1</th>\n",
       "      <td>Male</td>\n",
       "      <td>19</td>\n",
       "      <td>15</td>\n",
       "      <td>39</td>\n",
       "    </tr>\n",
       "    <tr>\n",
       "      <th>2</th>\n",
       "      <td>Male</td>\n",
       "      <td>21</td>\n",
       "      <td>15</td>\n",
       "      <td>81</td>\n",
       "    </tr>\n",
       "    <tr>\n",
       "      <th>3</th>\n",
       "      <td>Female</td>\n",
       "      <td>20</td>\n",
       "      <td>16</td>\n",
       "      <td>6</td>\n",
       "    </tr>\n",
       "    <tr>\n",
       "      <th>4</th>\n",
       "      <td>Female</td>\n",
       "      <td>23</td>\n",
       "      <td>16</td>\n",
       "      <td>77</td>\n",
       "    </tr>\n",
       "    <tr>\n",
       "      <th>5</th>\n",
       "      <td>Female</td>\n",
       "      <td>31</td>\n",
       "      <td>17</td>\n",
       "      <td>40</td>\n",
       "    </tr>\n",
       "  </tbody>\n",
       "</table>\n",
       "</div>"
      ],
      "text/plain": [
       "             Genre  Age  Income  Spending\n",
       "CustomerID                               \n",
       "1             Male   19      15        39\n",
       "2             Male   21      15        81\n",
       "3           Female   20      16         6\n",
       "4           Female   23      16        77\n",
       "5           Female   31      17        40"
      ]
     },
     "execution_count": 2,
     "metadata": {},
     "output_type": "execute_result"
    }
   ],
   "source": [
    "df = pd.read_csv(\"mall_customer.csv\")\n",
    "df.set_index(\"CustomerID\",inplace=True)\n",
    "df.head()"
   ]
  },
  {
   "cell_type": "code",
   "execution_count": 3,
   "id": "d7434aea-f943-4b99-ae1c-166f7fa1fb01",
   "metadata": {},
   "outputs": [
    {
     "data": {
      "text/plain": [
       "Genre       0\n",
       "Age         0\n",
       "Income      0\n",
       "Spending    0\n",
       "dtype: int64"
      ]
     },
     "execution_count": 3,
     "metadata": {},
     "output_type": "execute_result"
    }
   ],
   "source": [
    "#mengecek missing value\n",
    "sum_missing = pd.isnull(df).sum()\n",
    "sum_missing"
   ]
  },
  {
   "cell_type": "markdown",
   "id": "d114532f-8630-4b00-a0f9-b4eba6ddf510",
   "metadata": {},
   "source": [
    "## Exploratory Data analysis (EDA)"
   ]
  },
  {
   "cell_type": "code",
   "execution_count": 30,
   "id": "3052ab9e-0322-4362-8389-0ed17bb1f09c",
   "metadata": {},
   "outputs": [
    {
     "name": "stderr",
     "output_type": "stream",
     "text": [
      "F:\\anaconda\\lib\\site-packages\\seaborn\\_decorators.py:36: FutureWarning: Pass the following variable as a keyword arg: x. From version 0.12, the only valid positional argument will be `data`, and passing other arguments without an explicit keyword will result in an error or misinterpretation.\n",
      "  warnings.warn(\n"
     ]
    },
    {
     "data": {
      "text/plain": [
       "<AxesSubplot:xlabel='Age'>"
      ]
     },
     "execution_count": 30,
     "metadata": {},
     "output_type": "execute_result"
    },
    {
     "data": {
      "image/png": "[encoded data removed]",
      "text/plain": [
       "<Figure size 640x480 with 1 Axes>"
      ]
     },
     "metadata": {},
     "output_type": "display_data"
    }
   ],
   "source": [
    "# melihat persebaran usia pelanggan\n",
    "sns.boxplot(df[\"Age\"])"
   ]
  },
  {
   "cell_type": "markdown",
   "id": "d6a8d223-baa1-4667-99a5-0e94cc5fdd44",
   "metadata": {},
   "source": [
    "Dari hasil boxplot diatas diperoleh, bahwa persebaran usia customer berada pada range < 20 tahun hingga 70 tahun. Dan diperoleh rata-rata usia berada pada umur 35 tahun"
   ]
  },
  {
   "cell_type": "code",
   "execution_count": 31,
   "id": "dd37906e-e900-4f5d-b308-01db0fbdf40e",
   "metadata": {},
   "outputs": [
    {
     "name": "stderr",
     "output_type": "stream",
     "text": [
      "F:\\anaconda\\lib\\site-packages\\seaborn\\_decorators.py:36: FutureWarning: Pass the following variable as a keyword arg: x. From version 0.12, the only valid positional argument will be `data`, and passing other arguments without an explicit keyword will result in an error or misinterpretation.\n",
      "  warnings.warn(\n"
     ]
    },
    {
     "data": {
      "text/plain": [
       "<AxesSubplot:xlabel='Spending'>"
      ]
     },
     "execution_count": 31,
     "metadata": {},
     "output_type": "execute_result"
    },
    {
     "data": {
      "image/png": "[encoded data removed]",
      "text/plain": [
       "<Figure size 640x480 with 1 Axes>"
      ]
     },
     "metadata": {},
     "output_type": "display_data"
    }
   ],
   "source": [
    "# melihat persebaran spending \n",
    "sns.boxplot(df[\"Spending\"])"
   ]
  },
  {
   "cell_type": "markdown",
   "id": "e990aad2-acfa-4dac-b6fb-83bd3aa7b972",
   "metadata": {},
   "source": [
    "Diperoleh bahwa rata-rata spending adalah pada nilai 50"
   ]
  },
  {
   "cell_type": "code",
   "execution_count": 33,
   "id": "0676ea2a-7e86-4cd5-bb20-111f3ded2e43",
   "metadata": {},
   "outputs": [
    {
     "name": "stderr",
     "output_type": "stream",
     "text": [
      "F:\\anaconda\\lib\\site-packages\\seaborn\\_decorators.py:36: FutureWarning: Pass the following variable as a keyword arg: x. From version 0.12, the only valid positional argument will be `data`, and passing other arguments without an explicit keyword will result in an error or misinterpretation.\n",
      "  warnings.warn(\n"
     ]
    },
    {
     "data": {
      "text/plain": [
       "<AxesSubplot:xlabel='Income'>"
      ]
     },
     "execution_count": 33,
     "metadata": {},
     "output_type": "execute_result"
    },
    {
     "data": {
      "image/png": "[encoded data removed]",
      "text/plain": [
       "<Figure size 640x480 with 1 Axes>"
      ]
     },
     "metadata": {},
     "output_type": "display_data"
    }
   ],
   "source": [
    "# melihat persebaran income\n",
    "sns.boxplot(df[\"Income\"])"
   ]
  },
  {
   "cell_type": "markdown",
   "id": "c6b03842-3776-4742-a83d-baa02a734cdc",
   "metadata": {},
   "source": [
    "Diperoleh hasil bahwa nilai rata-rata income customer berada pada nilai 60 , dan terdapat outlier nilai terbesar sendiri pada nilai 140"
   ]
  },
  {
   "cell_type": "code",
   "execution_count": 34,
   "id": "b44f95ac-f2cc-43e1-8645-34deb2210b05",
   "metadata": {},
   "outputs": [
    {
     "data": {
      "text/html": [
       "<div>\n",
       "<style scoped>\n",
       "    .dataframe tbody tr th:only-of-type {\n",
       "        vertical-align: middle;\n",
       "    }\n",
       "\n",
       "    .dataframe tbody tr th {\n",
       "        vertical-align: top;\n",
       "    }\n",
       "\n",
       "    .dataframe thead th {\n",
       "        text-align: right;\n",
       "    }\n",
       "</style>\n",
       "<table border=\"1\" class=\"dataframe\">\n",
       "  <thead>\n",
       "    <tr style=\"text-align: right;\">\n",
       "      <th></th>\n",
       "      <th>Genre</th>\n",
       "      <th>Age</th>\n",
       "      <th>Income</th>\n",
       "      <th>Spending</th>\n",
       "    </tr>\n",
       "    <tr>\n",
       "      <th>CustomerID</th>\n",
       "      <th></th>\n",
       "      <th></th>\n",
       "      <th></th>\n",
       "      <th></th>\n",
       "    </tr>\n",
       "  </thead>\n",
       "  <tbody>\n",
       "    <tr>\n",
       "      <th>1</th>\n",
       "      <td>1</td>\n",
       "      <td>19</td>\n",
       "      <td>15</td>\n",
       "      <td>39</td>\n",
       "    </tr>\n",
       "    <tr>\n",
       "      <th>2</th>\n",
       "      <td>1</td>\n",
       "      <td>21</td>\n",
       "      <td>15</td>\n",
       "      <td>81</td>\n",
       "    </tr>\n",
       "    <tr>\n",
       "      <th>3</th>\n",
       "      <td>0</td>\n",
       "      <td>20</td>\n",
       "      <td>16</td>\n",
       "      <td>6</td>\n",
       "    </tr>\n",
       "    <tr>\n",
       "      <th>4</th>\n",
       "      <td>0</td>\n",
       "      <td>23</td>\n",
       "      <td>16</td>\n",
       "      <td>77</td>\n",
       "    </tr>\n",
       "    <tr>\n",
       "      <th>5</th>\n",
       "      <td>0</td>\n",
       "      <td>31</td>\n",
       "      <td>17</td>\n",
       "      <td>40</td>\n",
       "    </tr>\n",
       "  </tbody>\n",
       "</table>\n",
       "</div>"
      ],
      "text/plain": [
       "            Genre  Age  Income  Spending\n",
       "CustomerID                              \n",
       "1               1   19      15        39\n",
       "2               1   21      15        81\n",
       "3               0   20      16         6\n",
       "4               0   23      16        77\n",
       "5               0   31      17        40"
      ]
     },
     "execution_count": 34,
     "metadata": {},
     "output_type": "execute_result"
    }
   ],
   "source": [
    "# merubah data kategori menjadi numerik (pada kasus ini genre diubah menjadi numerik)\n",
    "# (Male = 1, Female = 0)\n",
    "label_encoder = LabelEncoder()\n",
    "categorical = ['Genre']\n",
    "encoded_data = df[categorical].apply(label_encoder.fit_transform)\n",
    "\n",
    "new_df = pd.concat([encoded_data, df[['Age','Income','Spending']]],axis=1)\n",
    "new_df.head()"
   ]
  },
  {
   "cell_type": "markdown",
   "id": "437dc60d-e8e8-4f5d-a512-72abe51ed0ab",
   "metadata": {},
   "source": [
    "## KMeans Cluster"
   ]
  },
  {
   "cell_type": "markdown",
   "id": "2f2ebdc4-f212-4ee7-ba91-a8cea9b1e1e9",
   "metadata": {},
   "source": [
    "### Mementukan nilai optimal k (kelompok)\n",
    "\n"
   ]
  },
  {
   "cell_type": "code",
   "execution_count": 10,
   "id": "572edf16-e3ee-4f91-a8f3-65c77e215bfc",
   "metadata": {},
   "outputs": [],
   "source": [
    "Sum_of_squared_error = []\n",
    "K = range(2,10)\n",
    "for k in K:\n",
    "    km = KMeans(n_clusters=k)\n",
    "    km = km.fit(new_df)\n",
    "    Sum_of_squared_error.append(km.inertia_)"
   ]
  },
  {
   "cell_type": "code",
   "execution_count": 11,
   "id": "11c2bcd6-41aa-49e9-8707-09580622cafc",
   "metadata": {},
   "outputs": [
    {
     "data": {
      "image/png": "[encoded data removed]",
      "text/plain": [
       "<Figure size 640x480 with 1 Axes>"
      ]
     },
     "metadata": {},
     "output_type": "display_data"
    }
   ],
   "source": [
    "plt.plot(K, Sum_of_squared_error, 'bx-')\n",
    "plt.xlabel('k')\n",
    "plt.ylabel('SSE')\n",
    "plt.title('Elbow Method For Optimal k')\n",
    "plt.show()"
   ]
  },
  {
   "cell_type": "markdown",
   "id": "7f3f90a5-b4e3-49ce-afe8-268246a5cd45",
   "metadata": {},
   "source": [
    "Berdasarkan dari metode elbow pada titik siku-siku diperoleh di k=3 atau k =4, pada kasus ini nilai ka yang optimal menurut saya dalah 4, karena jarak antara 2 dan 3 terlalu jauh"
   ]
  },
  {
   "cell_type": "code",
   "execution_count": 12,
   "id": "eff975b5-aacb-441a-96d3-164d80e6749e",
   "metadata": {},
   "outputs": [
    {
     "data": {
      "text/plain": [
       "KMeans(n_clusters=4)"
      ]
     },
     "execution_count": 12,
     "metadata": {},
     "output_type": "execute_result"
    }
   ],
   "source": [
    "# Memodelkan data dengan k-means\n",
    "cluster = KMeans(n_clusters=4)\n",
    "cluster.fit(new_df)"
   ]
  },
  {
   "cell_type": "code",
   "execution_count": 13,
   "id": "2967e0ee-bcfc-4797-a308-f07bec800e67",
   "metadata": {},
   "outputs": [],
   "source": [
    "# Membuat kolom baru berdasarkan hasil clustering\n",
    "segment = pd.Series(cluster.labels_, name=\"segment\")"
   ]
  },
  {
   "cell_type": "code",
   "execution_count": 14,
   "id": "63ab9907-de18-495a-b14b-c02d92228c23",
   "metadata": {},
   "outputs": [
    {
     "data": {
      "text/html": [
       "<div>\n",
       "<style scoped>\n",
       "    .dataframe tbody tr th:only-of-type {\n",
       "        vertical-align: middle;\n",
       "    }\n",
       "\n",
       "    .dataframe tbody tr th {\n",
       "        vertical-align: top;\n",
       "    }\n",
       "\n",
       "    .dataframe thead th {\n",
       "        text-align: right;\n",
       "    }\n",
       "</style>\n",
       "<table border=\"1\" class=\"dataframe\">\n",
       "  <thead>\n",
       "    <tr style=\"text-align: right;\">\n",
       "      <th></th>\n",
       "      <th>Genre</th>\n",
       "      <th>Age</th>\n",
       "      <th>Income</th>\n",
       "      <th>Spending</th>\n",
       "      <th>segment</th>\n",
       "    </tr>\n",
       "  </thead>\n",
       "  <tbody>\n",
       "    <tr>\n",
       "      <th>1</th>\n",
       "      <td>1.0</td>\n",
       "      <td>19.0</td>\n",
       "      <td>15.0</td>\n",
       "      <td>39.0</td>\n",
       "      <td>2.0</td>\n",
       "    </tr>\n",
       "    <tr>\n",
       "      <th>2</th>\n",
       "      <td>1.0</td>\n",
       "      <td>21.0</td>\n",
       "      <td>15.0</td>\n",
       "      <td>81.0</td>\n",
       "      <td>0.0</td>\n",
       "    </tr>\n",
       "    <tr>\n",
       "      <th>3</th>\n",
       "      <td>0.0</td>\n",
       "      <td>20.0</td>\n",
       "      <td>16.0</td>\n",
       "      <td>6.0</td>\n",
       "      <td>2.0</td>\n",
       "    </tr>\n",
       "    <tr>\n",
       "      <th>4</th>\n",
       "      <td>0.0</td>\n",
       "      <td>23.0</td>\n",
       "      <td>16.0</td>\n",
       "      <td>77.0</td>\n",
       "      <td>0.0</td>\n",
       "    </tr>\n",
       "    <tr>\n",
       "      <th>5</th>\n",
       "      <td>0.0</td>\n",
       "      <td>31.0</td>\n",
       "      <td>17.0</td>\n",
       "      <td>40.0</td>\n",
       "      <td>2.0</td>\n",
       "    </tr>\n",
       "  </tbody>\n",
       "</table>\n",
       "</div>"
      ],
      "text/plain": [
       "   Genre   Age  Income  Spending  segment\n",
       "1    1.0  19.0    15.0      39.0      2.0\n",
       "2    1.0  21.0    15.0      81.0      0.0\n",
       "3    0.0  20.0    16.0       6.0      2.0\n",
       "4    0.0  23.0    16.0      77.0      0.0\n",
       "5    0.0  31.0    17.0      40.0      2.0"
      ]
     },
     "execution_count": 14,
     "metadata": {},
     "output_type": "execute_result"
    }
   ],
   "source": [
    "# Menggabungkan data dengan hasil cluster\n",
    "results = pd.concat([new_df, segment], axis=1)\n",
    "results.head()"
   ]
  },
  {
   "cell_type": "code",
   "execution_count": 15,
   "id": "5aeccdf1-5f8f-46b4-904a-1c74c2829762",
   "metadata": {},
   "outputs": [
    {
     "data": {
      "text/html": [
       "<div>\n",
       "<style scoped>\n",
       "    .dataframe tbody tr th:only-of-type {\n",
       "        vertical-align: middle;\n",
       "    }\n",
       "\n",
       "    .dataframe tbody tr th {\n",
       "        vertical-align: top;\n",
       "    }\n",
       "\n",
       "    .dataframe thead th {\n",
       "        text-align: right;\n",
       "    }\n",
       "</style>\n",
       "<table border=\"1\" class=\"dataframe\">\n",
       "  <thead>\n",
       "    <tr style=\"text-align: right;\">\n",
       "      <th></th>\n",
       "      <th>Genre</th>\n",
       "      <th>Age</th>\n",
       "      <th>Income</th>\n",
       "      <th>Spending</th>\n",
       "      <th>segment</th>\n",
       "    </tr>\n",
       "  </thead>\n",
       "  <tbody>\n",
       "    <tr>\n",
       "      <th>2</th>\n",
       "      <td>1.0</td>\n",
       "      <td>21.0</td>\n",
       "      <td>15.0</td>\n",
       "      <td>81.0</td>\n",
       "      <td>0.0</td>\n",
       "    </tr>\n",
       "    <tr>\n",
       "      <th>4</th>\n",
       "      <td>0.0</td>\n",
       "      <td>23.0</td>\n",
       "      <td>16.0</td>\n",
       "      <td>77.0</td>\n",
       "      <td>0.0</td>\n",
       "    </tr>\n",
       "    <tr>\n",
       "      <th>6</th>\n",
       "      <td>0.0</td>\n",
       "      <td>22.0</td>\n",
       "      <td>17.0</td>\n",
       "      <td>76.0</td>\n",
       "      <td>0.0</td>\n",
       "    </tr>\n",
       "    <tr>\n",
       "      <th>8</th>\n",
       "      <td>0.0</td>\n",
       "      <td>23.0</td>\n",
       "      <td>18.0</td>\n",
       "      <td>94.0</td>\n",
       "      <td>0.0</td>\n",
       "    </tr>\n",
       "    <tr>\n",
       "      <th>10</th>\n",
       "      <td>0.0</td>\n",
       "      <td>30.0</td>\n",
       "      <td>19.0</td>\n",
       "      <td>72.0</td>\n",
       "      <td>0.0</td>\n",
       "    </tr>\n",
       "  </tbody>\n",
       "</table>\n",
       "</div>"
      ],
      "text/plain": [
       "    Genre   Age  Income  Spending  segment\n",
       "2     1.0  21.0    15.0      81.0      0.0\n",
       "4     0.0  23.0    16.0      77.0      0.0\n",
       "6     0.0  22.0    17.0      76.0      0.0\n",
       "8     0.0  23.0    18.0      94.0      0.0\n",
       "10    0.0  30.0    19.0      72.0      0.0"
      ]
     },
     "execution_count": 15,
     "metadata": {},
     "output_type": "execute_result"
    }
   ],
   "source": [
    "# Menampilkan 5 data teratas dari cluster 0\n",
    "results[results[\"segment\"]==0][:5]"
   ]
  },
  {
   "cell_type": "code",
   "execution_count": 16,
   "id": "ec636e0c-f47e-4ba7-a373-a44c3dff70bd",
   "metadata": {},
   "outputs": [
    {
     "data": {
      "text/html": [
       "<div>\n",
       "<style scoped>\n",
       "    .dataframe tbody tr th:only-of-type {\n",
       "        vertical-align: middle;\n",
       "    }\n",
       "\n",
       "    .dataframe tbody tr th {\n",
       "        vertical-align: top;\n",
       "    }\n",
       "\n",
       "    .dataframe thead th {\n",
       "        text-align: right;\n",
       "    }\n",
       "</style>\n",
       "<table border=\"1\" class=\"dataframe\">\n",
       "  <thead>\n",
       "    <tr style=\"text-align: right;\">\n",
       "      <th></th>\n",
       "      <th>Genre</th>\n",
       "      <th>Age</th>\n",
       "      <th>Income</th>\n",
       "      <th>Spending</th>\n",
       "      <th>segment</th>\n",
       "    </tr>\n",
       "  </thead>\n",
       "  <tbody>\n",
       "    <tr>\n",
       "      <th>123</th>\n",
       "      <td>0.0</td>\n",
       "      <td>40.0</td>\n",
       "      <td>69.0</td>\n",
       "      <td>58.0</td>\n",
       "      <td>1.0</td>\n",
       "    </tr>\n",
       "    <tr>\n",
       "      <th>125</th>\n",
       "      <td>0.0</td>\n",
       "      <td>23.0</td>\n",
       "      <td>70.0</td>\n",
       "      <td>29.0</td>\n",
       "      <td>1.0</td>\n",
       "    </tr>\n",
       "    <tr>\n",
       "      <th>127</th>\n",
       "      <td>1.0</td>\n",
       "      <td>43.0</td>\n",
       "      <td>71.0</td>\n",
       "      <td>35.0</td>\n",
       "      <td>1.0</td>\n",
       "    </tr>\n",
       "    <tr>\n",
       "      <th>129</th>\n",
       "      <td>1.0</td>\n",
       "      <td>59.0</td>\n",
       "      <td>71.0</td>\n",
       "      <td>11.0</td>\n",
       "      <td>1.0</td>\n",
       "    </tr>\n",
       "    <tr>\n",
       "      <th>131</th>\n",
       "      <td>1.0</td>\n",
       "      <td>47.0</td>\n",
       "      <td>71.0</td>\n",
       "      <td>9.0</td>\n",
       "      <td>1.0</td>\n",
       "    </tr>\n",
       "  </tbody>\n",
       "</table>\n",
       "</div>"
      ],
      "text/plain": [
       "     Genre   Age  Income  Spending  segment\n",
       "123    0.0  40.0    69.0      58.0      1.0\n",
       "125    0.0  23.0    70.0      29.0      1.0\n",
       "127    1.0  43.0    71.0      35.0      1.0\n",
       "129    1.0  59.0    71.0      11.0      1.0\n",
       "131    1.0  47.0    71.0       9.0      1.0"
      ]
     },
     "execution_count": 16,
     "metadata": {},
     "output_type": "execute_result"
    }
   ],
   "source": [
    "# Menampilkan 5 data teratas dari cluster 1\n",
    "results[results[\"segment\"]==1][:5]"
   ]
  },
  {
   "cell_type": "code",
   "execution_count": 17,
   "id": "e718a169-31f8-4aa4-9a83-f9e18b68a699",
   "metadata": {},
   "outputs": [
    {
     "data": {
      "text/html": [
       "<div>\n",
       "<style scoped>\n",
       "    .dataframe tbody tr th:only-of-type {\n",
       "        vertical-align: middle;\n",
       "    }\n",
       "\n",
       "    .dataframe tbody tr th {\n",
       "        vertical-align: top;\n",
       "    }\n",
       "\n",
       "    .dataframe thead th {\n",
       "        text-align: right;\n",
       "    }\n",
       "</style>\n",
       "<table border=\"1\" class=\"dataframe\">\n",
       "  <thead>\n",
       "    <tr style=\"text-align: right;\">\n",
       "      <th></th>\n",
       "      <th>Genre</th>\n",
       "      <th>Age</th>\n",
       "      <th>Income</th>\n",
       "      <th>Spending</th>\n",
       "      <th>segment</th>\n",
       "    </tr>\n",
       "  </thead>\n",
       "  <tbody>\n",
       "    <tr>\n",
       "      <th>1</th>\n",
       "      <td>1.0</td>\n",
       "      <td>19.0</td>\n",
       "      <td>15.0</td>\n",
       "      <td>39.0</td>\n",
       "      <td>2.0</td>\n",
       "    </tr>\n",
       "    <tr>\n",
       "      <th>3</th>\n",
       "      <td>0.0</td>\n",
       "      <td>20.0</td>\n",
       "      <td>16.0</td>\n",
       "      <td>6.0</td>\n",
       "      <td>2.0</td>\n",
       "    </tr>\n",
       "    <tr>\n",
       "      <th>5</th>\n",
       "      <td>0.0</td>\n",
       "      <td>31.0</td>\n",
       "      <td>17.0</td>\n",
       "      <td>40.0</td>\n",
       "      <td>2.0</td>\n",
       "    </tr>\n",
       "    <tr>\n",
       "      <th>7</th>\n",
       "      <td>0.0</td>\n",
       "      <td>35.0</td>\n",
       "      <td>18.0</td>\n",
       "      <td>6.0</td>\n",
       "      <td>2.0</td>\n",
       "    </tr>\n",
       "    <tr>\n",
       "      <th>9</th>\n",
       "      <td>1.0</td>\n",
       "      <td>64.0</td>\n",
       "      <td>19.0</td>\n",
       "      <td>3.0</td>\n",
       "      <td>2.0</td>\n",
       "    </tr>\n",
       "  </tbody>\n",
       "</table>\n",
       "</div>"
      ],
      "text/plain": [
       "   Genre   Age  Income  Spending  segment\n",
       "1    1.0  19.0    15.0      39.0      2.0\n",
       "3    0.0  20.0    16.0       6.0      2.0\n",
       "5    0.0  31.0    17.0      40.0      2.0\n",
       "7    0.0  35.0    18.0       6.0      2.0\n",
       "9    1.0  64.0    19.0       3.0      2.0"
      ]
     },
     "execution_count": 17,
     "metadata": {},
     "output_type": "execute_result"
    }
   ],
   "source": [
    "# Menampilkan 5 data teratas dari cluster 2\n",
    "results[results[\"segment\"]==2][:5]"
   ]
  },
  {
   "cell_type": "code",
   "execution_count": 35,
   "id": "d527cfaf-323c-427e-ae02-39c79f82e4bc",
   "metadata": {},
   "outputs": [
    {
     "data": {
      "text/html": [
       "<div>\n",
       "<style scoped>\n",
       "    .dataframe tbody tr th:only-of-type {\n",
       "        vertical-align: middle;\n",
       "    }\n",
       "\n",
       "    .dataframe tbody tr th {\n",
       "        vertical-align: top;\n",
       "    }\n",
       "\n",
       "    .dataframe thead th {\n",
       "        text-align: right;\n",
       "    }\n",
       "</style>\n",
       "<table border=\"1\" class=\"dataframe\">\n",
       "  <thead>\n",
       "    <tr style=\"text-align: right;\">\n",
       "      <th></th>\n",
       "      <th>Genre</th>\n",
       "      <th>Age</th>\n",
       "      <th>Income</th>\n",
       "      <th>Spending</th>\n",
       "      <th>segment</th>\n",
       "    </tr>\n",
       "  </thead>\n",
       "  <tbody>\n",
       "    <tr>\n",
       "      <th>124</th>\n",
       "      <td>1.0</td>\n",
       "      <td>39.0</td>\n",
       "      <td>69.0</td>\n",
       "      <td>91.0</td>\n",
       "      <td>3.0</td>\n",
       "    </tr>\n",
       "    <tr>\n",
       "      <th>128</th>\n",
       "      <td>1.0</td>\n",
       "      <td>40.0</td>\n",
       "      <td>71.0</td>\n",
       "      <td>95.0</td>\n",
       "      <td>3.0</td>\n",
       "    </tr>\n",
       "    <tr>\n",
       "      <th>130</th>\n",
       "      <td>1.0</td>\n",
       "      <td>38.0</td>\n",
       "      <td>71.0</td>\n",
       "      <td>75.0</td>\n",
       "      <td>3.0</td>\n",
       "    </tr>\n",
       "    <tr>\n",
       "      <th>132</th>\n",
       "      <td>1.0</td>\n",
       "      <td>39.0</td>\n",
       "      <td>71.0</td>\n",
       "      <td>75.0</td>\n",
       "      <td>3.0</td>\n",
       "    </tr>\n",
       "    <tr>\n",
       "      <th>134</th>\n",
       "      <td>0.0</td>\n",
       "      <td>31.0</td>\n",
       "      <td>72.0</td>\n",
       "      <td>71.0</td>\n",
       "      <td>3.0</td>\n",
       "    </tr>\n",
       "  </tbody>\n",
       "</table>\n",
       "</div>"
      ],
      "text/plain": [
       "     Genre   Age  Income  Spending  segment\n",
       "124    1.0  39.0    69.0      91.0      3.0\n",
       "128    1.0  40.0    71.0      95.0      3.0\n",
       "130    1.0  38.0    71.0      75.0      3.0\n",
       "132    1.0  39.0    71.0      75.0      3.0\n",
       "134    0.0  31.0    72.0      71.0      3.0"
      ]
     },
     "execution_count": 35,
     "metadata": {},
     "output_type": "execute_result"
    }
   ],
   "source": [
    "# Menampilkan 5 data teratas dari cluster 3\n",
    "results[results[\"segment\"]==3][:5]"
   ]
  },
  {
   "cell_type": "code",
   "execution_count": 20,
   "id": "1be1b05c-7cd1-49f0-9155-2d2fadf4ca09",
   "metadata": {},
   "outputs": [
    {
     "data": {
      "text/plain": [
       "<AxesSubplot:xlabel='segment', ylabel='Age'>"
      ]
     },
     "execution_count": 20,
     "metadata": {},
     "output_type": "execute_result"
    },
    {
     "data": {
      "image/png": "[encoded data removed]",
      "text/plain": [
       "<Figure size 640x480 with 1 Axes>"
      ]
     },
     "metadata": {},
     "output_type": "display_data"
    }
   ],
   "source": [
    "# Pengelompokan customer berdasarkan usia\n",
    "sns.boxplot(x=results[\"segment\"], y=results[\"Age\"], data=results)"
   ]
  },
  {
   "cell_type": "markdown",
   "id": "0089754d-69ac-4a58-af92-1f658d7ac10b",
   "metadata": {},
   "source": [
    "Dari usia diketahui perbedaan tidak terlalu signifikan,, terlihat bahwa rata-rata berada di 35 - 48 tahun "
   ]
  },
  {
   "cell_type": "code",
   "execution_count": 21,
   "id": "301a9ad8-3238-454e-9ed2-04f8069c2020",
   "metadata": {},
   "outputs": [
    {
     "data": {
      "text/plain": [
       "<AxesSubplot:xlabel='segment', ylabel='Spending'>"
      ]
     },
     "execution_count": 21,
     "metadata": {},
     "output_type": "execute_result"
    },
    {
     "data": {
      "image/png": "[encoded data removed]",
      "text/plain": [
       "<Figure size 640x480 with 1 Axes>"
      ]
     },
     "metadata": {},
     "output_type": "display_data"
    }
   ],
   "source": [
    "sns.boxplot(x=results[\"segment\"], y=results[\"Spending\"], data=results)"
   ]
  },
  {
   "cell_type": "markdown",
   "id": "58e503e5-62df-46ed-b927-691b079dfa0b",
   "metadata": {},
   "source": [
    "Dari hasil di atas diperoleh bahwa cluster 3 memiliki perbedaan yang cukup signifikan dimana rata-rata spending nya cukup besar pada angka 80 sekian"
   ]
  },
  {
   "cell_type": "code",
   "execution_count": 22,
   "id": "25783737-5d7f-45f4-8e66-51ca044510b1",
   "metadata": {},
   "outputs": [
    {
     "data": {
      "text/plain": [
       "<AxesSubplot:xlabel='segment', ylabel='Income'>"
      ]
     },
     "execution_count": 22,
     "metadata": {},
     "output_type": "execute_result"
    },
    {
     "data": {
      "image/png": "[encoded data removed]",
      "text/plain": [
       "<Figure size 640x480 with 1 Axes>"
      ]
     },
     "metadata": {},
     "output_type": "display_data"
    }
   ],
   "source": [
    "sns.boxplot(x=results[\"segment\"], y=results[\"Income\"], data=results)"
   ]
  },
  {
   "cell_type": "markdown",
   "id": "b28d18f5-0415-4771-8b6e-34d924b15e1e",
   "metadata": {},
   "source": [
    "Dari hasil income diatas diperoleh, untuk cluster 1 dan 3 memiliki rata-rata income yang sama, sedangkan untuk cluster 2 dan 0 memiliki rata-rata income yang berbeda, dan bahkan untuk cluster 2 memiliki income yang relatif kecil hanya berkisar di angka 25"
   ]
  },
  {
   "cell_type": "markdown",
   "id": "a4b577e1-b330-40d7-87fd-e237551a5f96",
   "metadata": {},
   "source": [
    "## Hasilnya & Kesimpulan"
   ]
  },
  {
   "cell_type": "markdown",
   "id": "394eaabe-8b14-41d2-ae93-14af040f59d2",
   "metadata": {},
   "source": [
    "### Berdasarkan Income"
   ]
  },
  {
   "cell_type": "code",
   "execution_count": 28,
   "id": "bd3567d4-3262-4211-a72c-7e653d7dc34d",
   "metadata": {},
   "outputs": [
    {
     "data": {
      "text/plain": [
       "<AxesSubplot:xlabel='Age', ylabel='Income'>"
      ]
     },
     "execution_count": 28,
     "metadata": {},
     "output_type": "execute_result"
    },
    {
     "data": {
      "image/png": "[encoded data removed]",
      "text/plain": [
       "<Figure size 640x480 with 1 Axes>"
      ]
     },
     "metadata": {},
     "output_type": "display_data"
    }
   ],
   "source": [
    "sns.scatterplot(x=results[results[\"segment\"]==0].Age, y=results[results[\"segment\"]==0].Income, color=\"pink\")\n",
    "sns.scatterplot(x=results[results[\"segment\"]==1].Age, y=results[results[\"segment\"]==1].Income, color=\"green\")\n",
    "sns.scatterplot(x=results[results[\"segment\"]==2].Age, y=results[results[\"segment\"]==2].Income, color=\"blue\")\n",
    "sns.scatterplot(x=results[results[\"segment\"]==3].Age, y=results[results[\"segment\"]==3].Income, color=\"yellow\")"
   ]
  },
  {
   "cell_type": "markdown",
   "id": "abdda124-3a95-4973-aba3-92826ef5f0cd",
   "metadata": {},
   "source": [
    "Dari analisa diatas berdasarkan nilai income diperoleh informasi :\n",
    "- Kelompok pertama yaitu cluster 0 (warna pink) merupakan kelompok yang memiliki income yang standard atau cukup, karena rata - rata income tersebut berada  pada kisaran 20 hingga 60,\n",
    "- Kelompok kedua yaitu cluster 1 (warna hijau) merupakan kelompok yang memiliki income yang paling tinggi terlihat bahwa dalam kelompok ini terdapat income sebesar 140, paling tinggi melebihi cluster 1 dan 3, Hasil ini juga memberikan informasi bahwa kelompok ini terbilang kelompok yang memiliki penghasilan yang tinggi, terlihat bahwa paling kecil income yang di peroleh adalah 80\n",
    "- Kelompok ketiga yaitu cluster 2 (warna biru) merupakan kelompok yang memiliki income yang paling kecil, karena rata-rata income hanya sebesar 20 dan bahkan paling tinggi hanya sesebar 40, Informasi yang diperoleh kelompok ini adalah kelompok yang memiliki penghasilan yang rata-rata kurang\n",
    "- kelompok empat yaitu cluster 3 (warna kuning) merupakan kelompok yang memiliki income yang rata-rata cukup besar, terlihat bahwa kellompok ini memiliki penghasilan sebesar 70 hingga 130"
   ]
  },
  {
   "cell_type": "markdown",
   "id": "1bce0cc2-a5c5-483b-a849-15eb9da27ed4",
   "metadata": {},
   "source": [
    "### Berdasarkan spending"
   ]
  },
  {
   "cell_type": "code",
   "execution_count": 27,
   "id": "c2b9a8c3-233b-4bd8-83c2-00228920ac70",
   "metadata": {},
   "outputs": [
    {
     "data": {
      "text/plain": [
       "<AxesSubplot:xlabel='Age', ylabel='Spending'>"
      ]
     },
     "execution_count": 27,
     "metadata": {},
     "output_type": "execute_result"
    },
    {
     "data": {
      "image/png": "[encoded data removed]",
      "text/plain": [
       "<Figure size 640x480 with 1 Axes>"
      ]
     },
     "metadata": {},
     "output_type": "display_data"
    }
   ],
   "source": [
    "sns.scatterplot(x=results[results[\"segment\"]==0].Age, y=results[results[\"segment\"]==0].Spending, color=\"pink\")\n",
    "sns.scatterplot(x=results[results[\"segment\"]==1].Age, y=results[results[\"segment\"]==1].Spending, color=\"green\")\n",
    "sns.scatterplot(x=results[results[\"segment\"]==2].Age, y=results[results[\"segment\"]==2].Spending, color=\"blue\")\n",
    "sns.scatterplot(x=results[results[\"segment\"]==3].Age, y=results[results[\"segment\"]==3].Spending, color=\"yellow\")"
   ]
  },
  {
   "cell_type": "markdown",
   "id": "cd084ced-1146-4654-a089-a58fea5d7a46",
   "metadata": {},
   "source": [
    "Dari analisa diatas berdasarkan nilai income diperoleh informasi :\n",
    "- Kelompok pertama yaitu cluster 0 (warna pink) merupakan kelompok yang memiliki spending yang memiliki rata-rata niali sebesar 40 hingga 60, dan kelompok ini bahkan memiiliki nilai spending yang cukup paling tinggi, yaitu sebesar 100\n",
    "- Kelompok kedua yaitu cluster 1 (warna hijau) merupakan kelompok yang memiliki spending yang relatif kecil, karena rata-rata memiliki nilai spending hanya sekitar angka 10 hingga 40 saja, dan bahkan kelompok ini memiliki nilai spending yang paling kecil\n",
    "- Kelompok ketiga yaitu cluster 2 (warna biru) merupakan kelompok yang memiliki spending yang relatif kecil, dan kurang lebih memiliki karakteristik yang sama dengan cluster 1 \n",
    "- kelompok empat yaitu cluster 3 (warna kuning) merupakan kelompok yang memiliki spending yang rata-rata cukup tinggi, dimana nilai spending pada kelompok ini sebesar 60 hingga 100, dengan ini kelompok 3 memiliki nilai spend yang tinggi "
   ]
  },
  {
   "cell_type": "code",
   "execution_count": null,
   "id": "7f8f5a06-685e-477e-8ea7-1c62621c32ee",
   "metadata": {},
   "outputs": [],
   "source": []
  }
 ],
 "metadata": {
  "kernelspec": {
   "display_name": "Python 3 (ipykernel)",
   "language": "python",
   "name": "python3"
  },
  "language_info": {
   "codemirror_mode": {
    "name": "ipython",
    "version": 3
   },
   "file_extension": ".py",
   "mimetype": "text/x-python",
   "name": "python",
   "nbconvert_exporter": "python",
   "pygments_lexer": "ipython3",
   "version": "3.9.13"
  }
 },
 "nbformat": 4,
 "nbformat_minor": 5
}
